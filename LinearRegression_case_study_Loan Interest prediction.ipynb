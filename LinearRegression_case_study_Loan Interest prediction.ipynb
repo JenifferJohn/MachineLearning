{
 "cells": [
  {
   "cell_type": "code",
   "execution_count": 7,
   "metadata": {},
   "outputs": [],
   "source": [
    "import numpy as np\n",
    "import pandas as pd\n",
    "import matplotlib.pyplot as plt\n",
    "%matplotlib inline\n",
    "import seaborn as sns\n",
    "import plotly as py\n",
    "import statsmodels.api as sm\n",
    "import warnings\n",
    "warnings.filterwarnings('ignore')\n",
    "import os"
   ]
  },
  {
   "cell_type": "code",
   "execution_count": 8,
   "metadata": {},
   "outputs": [],
   "source": [
    "from sklearn.model_selection import train_test_split\n",
    "from sklearn.linear_model import LinearRegression\n",
    "from sklearn.feature_selection import RFE\n",
    "from sklearn.linear_model import Lasso,LassoCV,Ridge,RidgeCV\n",
    "import sklearn.metrics as metrics"
   ]
  },
  {
   "cell_type": "code",
   "execution_count": 9,
   "metadata": {},
   "outputs": [],
   "source": [
    "loan1=pd.read_csv('C:\\\\Users\\\\JENIFFER JOHN\\\\DSE\\\\SampleData\\\\loan_data_train.csv')"
   ]
  },
  {
   "cell_type": "code",
   "execution_count": 10,
   "metadata": {},
   "outputs": [
    {
     "data": {
      "text/html": [
       "<div>\n",
       "<style scoped>\n",
       "    .dataframe tbody tr th:only-of-type {\n",
       "        vertical-align: middle;\n",
       "    }\n",
       "\n",
       "    .dataframe tbody tr th {\n",
       "        vertical-align: top;\n",
       "    }\n",
       "\n",
       "    .dataframe thead th {\n",
       "        text-align: right;\n",
       "    }\n",
       "</style>\n",
       "<table border=\"1\" class=\"dataframe\">\n",
       "  <thead>\n",
       "    <tr style=\"text-align: right;\">\n",
       "      <th></th>\n",
       "      <th>ID</th>\n",
       "      <th>Amount.Requested</th>\n",
       "      <th>Amount.Funded.By.Investors</th>\n",
       "      <th>Interest.Rate</th>\n",
       "      <th>Loan.Length</th>\n",
       "      <th>Loan.Purpose</th>\n",
       "      <th>Debt.To.Income.Ratio</th>\n",
       "      <th>State</th>\n",
       "      <th>Home.Ownership</th>\n",
       "      <th>Monthly.Income</th>\n",
       "      <th>FICO.Range</th>\n",
       "      <th>Open.CREDIT.Lines</th>\n",
       "      <th>Revolving.CREDIT.Balance</th>\n",
       "      <th>Inquiries.in.the.Last.6.Months</th>\n",
       "      <th>Employment.Length</th>\n",
       "    </tr>\n",
       "  </thead>\n",
       "  <tbody>\n",
       "    <tr>\n",
       "      <td>0</td>\n",
       "      <td>79542.0</td>\n",
       "      <td>25000</td>\n",
       "      <td>25000</td>\n",
       "      <td>18.49%</td>\n",
       "      <td>60 months</td>\n",
       "      <td>debt_consolidation</td>\n",
       "      <td>27.56%</td>\n",
       "      <td>VA</td>\n",
       "      <td>MORTGAGE</td>\n",
       "      <td>8606.56</td>\n",
       "      <td>720-724</td>\n",
       "      <td>11</td>\n",
       "      <td>15210</td>\n",
       "      <td>3.0</td>\n",
       "      <td>5 years</td>\n",
       "    </tr>\n",
       "    <tr>\n",
       "      <td>1</td>\n",
       "      <td>75473.0</td>\n",
       "      <td>19750</td>\n",
       "      <td>19750</td>\n",
       "      <td>17.27%</td>\n",
       "      <td>60 months</td>\n",
       "      <td>debt_consolidation</td>\n",
       "      <td>13.39%</td>\n",
       "      <td>NY</td>\n",
       "      <td>MORTGAGE</td>\n",
       "      <td>6737.50</td>\n",
       "      <td>710-714</td>\n",
       "      <td>14</td>\n",
       "      <td>19070</td>\n",
       "      <td>3.0</td>\n",
       "      <td>4 years</td>\n",
       "    </tr>\n",
       "    <tr>\n",
       "      <td>2</td>\n",
       "      <td>67265.0</td>\n",
       "      <td>2100</td>\n",
       "      <td>2100</td>\n",
       "      <td>14.33%</td>\n",
       "      <td>36 months</td>\n",
       "      <td>major_purchase</td>\n",
       "      <td>3.50%</td>\n",
       "      <td>LA</td>\n",
       "      <td>OWN</td>\n",
       "      <td>1000.00</td>\n",
       "      <td>690-694</td>\n",
       "      <td>13</td>\n",
       "      <td>893</td>\n",
       "      <td>1.0</td>\n",
       "      <td>&lt; 1 year</td>\n",
       "    </tr>\n",
       "    <tr>\n",
       "      <td>3</td>\n",
       "      <td>80167.0</td>\n",
       "      <td>28000</td>\n",
       "      <td>28000</td>\n",
       "      <td>16.29%</td>\n",
       "      <td>36 months</td>\n",
       "      <td>credit_card</td>\n",
       "      <td>19.62%</td>\n",
       "      <td>NV</td>\n",
       "      <td>MORTGAGE</td>\n",
       "      <td>7083.33</td>\n",
       "      <td>710-714</td>\n",
       "      <td>12</td>\n",
       "      <td>38194</td>\n",
       "      <td>1.0</td>\n",
       "      <td>10+ years</td>\n",
       "    </tr>\n",
       "    <tr>\n",
       "      <td>4</td>\n",
       "      <td>17240.0</td>\n",
       "      <td>24250</td>\n",
       "      <td>17431.82</td>\n",
       "      <td>12.23%</td>\n",
       "      <td>60 months</td>\n",
       "      <td>credit_card</td>\n",
       "      <td>23.79%</td>\n",
       "      <td>OH</td>\n",
       "      <td>MORTGAGE</td>\n",
       "      <td>5833.33</td>\n",
       "      <td>730-734</td>\n",
       "      <td>6</td>\n",
       "      <td>31061</td>\n",
       "      <td>2.0</td>\n",
       "      <td>10+ years</td>\n",
       "    </tr>\n",
       "    <tr>\n",
       "      <td>5</td>\n",
       "      <td>32737.0</td>\n",
       "      <td>5400</td>\n",
       "      <td>5375</td>\n",
       "      <td>8.90%</td>\n",
       "      <td>36 months</td>\n",
       "      <td>small_business</td>\n",
       "      <td>6.27%</td>\n",
       "      <td>OH</td>\n",
       "      <td>RENT</td>\n",
       "      <td>3000.00</td>\n",
       "      <td>785-789</td>\n",
       "      <td>2</td>\n",
       "      <td>90</td>\n",
       "      <td>2.0</td>\n",
       "      <td>NaN</td>\n",
       "    </tr>\n",
       "    <tr>\n",
       "      <td>6</td>\n",
       "      <td>71685.0</td>\n",
       "      <td>16000</td>\n",
       "      <td>16000</td>\n",
       "      <td>22.47%</td>\n",
       "      <td>60 months</td>\n",
       "      <td>credit_card</td>\n",
       "      <td>11.27%</td>\n",
       "      <td>CA</td>\n",
       "      <td>RENT</td>\n",
       "      <td>4791.67</td>\n",
       "      <td>665-669</td>\n",
       "      <td>5</td>\n",
       "      <td>8474</td>\n",
       "      <td>0.0</td>\n",
       "      <td>2 years</td>\n",
       "    </tr>\n",
       "    <tr>\n",
       "      <td>7</td>\n",
       "      <td>38028.0</td>\n",
       "      <td>6400</td>\n",
       "      <td>6400</td>\n",
       "      <td>7.51%</td>\n",
       "      <td>36 months</td>\n",
       "      <td>major_purchase</td>\n",
       "      <td>9.58%</td>\n",
       "      <td>IL</td>\n",
       "      <td>RENT</td>\n",
       "      <td>6400.00</td>\n",
       "      <td>735-739</td>\n",
       "      <td>11</td>\n",
       "      <td>12306</td>\n",
       "      <td>1.0</td>\n",
       "      <td>&lt; 1 year</td>\n",
       "    </tr>\n",
       "    <tr>\n",
       "      <td>8</td>\n",
       "      <td>32119.0</td>\n",
       "      <td>24000</td>\n",
       "      <td>23772.15</td>\n",
       "      <td>12.99%</td>\n",
       "      <td>60 months</td>\n",
       "      <td>home_improvement</td>\n",
       "      <td>15.54%</td>\n",
       "      <td>NC</td>\n",
       "      <td>MORTGAGE</td>\n",
       "      <td>8333.33</td>\n",
       "      <td>740-744</td>\n",
       "      <td>24</td>\n",
       "      <td>56984</td>\n",
       "      <td>0.0</td>\n",
       "      <td>NaN</td>\n",
       "    </tr>\n",
       "    <tr>\n",
       "      <td>9</td>\n",
       "      <td>84563.0</td>\n",
       "      <td>8000</td>\n",
       "      <td>8000</td>\n",
       "      <td>7.62%</td>\n",
       "      <td>36 months</td>\n",
       "      <td>other</td>\n",
       "      <td>0%</td>\n",
       "      <td>NC</td>\n",
       "      <td>MORTGAGE</td>\n",
       "      <td>3500.00</td>\n",
       "      <td>765-769</td>\n",
       "      <td>7</td>\n",
       "      <td>0</td>\n",
       "      <td>1.0</td>\n",
       "      <td>NaN</td>\n",
       "    </tr>\n",
       "  </tbody>\n",
       "</table>\n",
       "</div>"
      ],
      "text/plain": [
       "        ID Amount.Requested Amount.Funded.By.Investors Interest.Rate  \\\n",
       "0  79542.0            25000                      25000        18.49%   \n",
       "1  75473.0            19750                      19750        17.27%   \n",
       "2  67265.0             2100                       2100        14.33%   \n",
       "3  80167.0            28000                      28000        16.29%   \n",
       "4  17240.0            24250                   17431.82        12.23%   \n",
       "5  32737.0             5400                       5375         8.90%   \n",
       "6  71685.0            16000                      16000        22.47%   \n",
       "7  38028.0             6400                       6400         7.51%   \n",
       "8  32119.0            24000                   23772.15        12.99%   \n",
       "9  84563.0             8000                       8000         7.62%   \n",
       "\n",
       "  Loan.Length        Loan.Purpose Debt.To.Income.Ratio State Home.Ownership  \\\n",
       "0   60 months  debt_consolidation               27.56%    VA       MORTGAGE   \n",
       "1   60 months  debt_consolidation               13.39%    NY       MORTGAGE   \n",
       "2   36 months      major_purchase                3.50%    LA            OWN   \n",
       "3   36 months         credit_card               19.62%    NV       MORTGAGE   \n",
       "4   60 months         credit_card               23.79%    OH       MORTGAGE   \n",
       "5   36 months      small_business                6.27%    OH           RENT   \n",
       "6   60 months         credit_card               11.27%    CA           RENT   \n",
       "7   36 months      major_purchase                9.58%    IL           RENT   \n",
       "8   60 months    home_improvement               15.54%    NC       MORTGAGE   \n",
       "9   36 months               other                   0%    NC       MORTGAGE   \n",
       "\n",
       "   Monthly.Income FICO.Range Open.CREDIT.Lines Revolving.CREDIT.Balance  \\\n",
       "0         8606.56    720-724                11                    15210   \n",
       "1         6737.50    710-714                14                    19070   \n",
       "2         1000.00    690-694                13                      893   \n",
       "3         7083.33    710-714                12                    38194   \n",
       "4         5833.33    730-734                 6                    31061   \n",
       "5         3000.00    785-789                 2                       90   \n",
       "6         4791.67    665-669                 5                     8474   \n",
       "7         6400.00    735-739                11                    12306   \n",
       "8         8333.33    740-744                24                    56984   \n",
       "9         3500.00    765-769                 7                        0   \n",
       "\n",
       "   Inquiries.in.the.Last.6.Months Employment.Length  \n",
       "0                             3.0           5 years  \n",
       "1                             3.0           4 years  \n",
       "2                             1.0          < 1 year  \n",
       "3                             1.0         10+ years  \n",
       "4                             2.0         10+ years  \n",
       "5                             2.0               NaN  \n",
       "6                             0.0           2 years  \n",
       "7                             1.0          < 1 year  \n",
       "8                             0.0               NaN  \n",
       "9                             1.0               NaN  "
      ]
     },
     "execution_count": 10,
     "metadata": {},
     "output_type": "execute_result"
    }
   ],
   "source": [
    "loan1.head(10)"
   ]
  },
  {
   "cell_type": "code",
   "execution_count": 11,
   "metadata": {},
   "outputs": [],
   "source": [
    "loan1['Data']='Train'"
   ]
  },
  {
   "cell_type": "code",
   "execution_count": 12,
   "metadata": {},
   "outputs": [
    {
     "data": {
      "text/plain": [
       "(2200, 16)"
      ]
     },
     "execution_count": 12,
     "metadata": {},
     "output_type": "execute_result"
    }
   ],
   "source": [
    "loan1.shape"
   ]
  },
  {
   "cell_type": "code",
   "execution_count": 13,
   "metadata": {},
   "outputs": [
    {
     "data": {
      "text/plain": [
       "<matplotlib.axes._subplots.AxesSubplot at 0x2b4526bc508>"
      ]
     },
     "execution_count": 13,
     "metadata": {},
     "output_type": "execute_result"
    },
    {
     "data": {
      "image/png": "[encoded data removed]",
      "text/plain": [
       "<Figure size 432x288 with 2 Axes>"
      ]
     },
     "metadata": {
      "needs_background": "light"
     },
     "output_type": "display_data"
    }
   ],
   "source": [
    "sns.heatmap((loan1.corr()))"
   ]
  },
  {
   "cell_type": "code",
   "execution_count": 14,
   "metadata": {},
   "outputs": [
    {
     "data": {
      "text/html": [
       "<div>\n",
       "<style scoped>\n",
       "    .dataframe tbody tr th:only-of-type {\n",
       "        vertical-align: middle;\n",
       "    }\n",
       "\n",
       "    .dataframe tbody tr th {\n",
       "        vertical-align: top;\n",
       "    }\n",
       "\n",
       "    .dataframe thead th {\n",
       "        text-align: right;\n",
       "    }\n",
       "</style>\n",
       "<table border=\"1\" class=\"dataframe\">\n",
       "  <thead>\n",
       "    <tr style=\"text-align: right;\">\n",
       "      <th></th>\n",
       "      <th>ID</th>\n",
       "      <th>Amount.Requested</th>\n",
       "      <th>Amount.Funded.By.Investors</th>\n",
       "      <th>Interest.Rate</th>\n",
       "      <th>Loan.Length</th>\n",
       "      <th>Loan.Purpose</th>\n",
       "      <th>Debt.To.Income.Ratio</th>\n",
       "      <th>State</th>\n",
       "      <th>Home.Ownership</th>\n",
       "      <th>Monthly.Income</th>\n",
       "      <th>FICO.Range</th>\n",
       "      <th>Open.CREDIT.Lines</th>\n",
       "      <th>Revolving.CREDIT.Balance</th>\n",
       "      <th>Inquiries.in.the.Last.6.Months</th>\n",
       "      <th>Employment.Length</th>\n",
       "      <th>Data</th>\n",
       "    </tr>\n",
       "  </thead>\n",
       "  <tbody>\n",
       "    <tr>\n",
       "      <td>0</td>\n",
       "      <td>79542.0</td>\n",
       "      <td>25000</td>\n",
       "      <td>25000</td>\n",
       "      <td>18.49%</td>\n",
       "      <td>60 months</td>\n",
       "      <td>debt_consolidation</td>\n",
       "      <td>27.56%</td>\n",
       "      <td>VA</td>\n",
       "      <td>MORTGAGE</td>\n",
       "      <td>8606.56</td>\n",
       "      <td>720-724</td>\n",
       "      <td>11</td>\n",
       "      <td>15210</td>\n",
       "      <td>3.0</td>\n",
       "      <td>5 years</td>\n",
       "      <td>Train</td>\n",
       "    </tr>\n",
       "    <tr>\n",
       "      <td>1</td>\n",
       "      <td>75473.0</td>\n",
       "      <td>19750</td>\n",
       "      <td>19750</td>\n",
       "      <td>17.27%</td>\n",
       "      <td>60 months</td>\n",
       "      <td>debt_consolidation</td>\n",
       "      <td>13.39%</td>\n",
       "      <td>NY</td>\n",
       "      <td>MORTGAGE</td>\n",
       "      <td>6737.50</td>\n",
       "      <td>710-714</td>\n",
       "      <td>14</td>\n",
       "      <td>19070</td>\n",
       "      <td>3.0</td>\n",
       "      <td>4 years</td>\n",
       "      <td>Train</td>\n",
       "    </tr>\n",
       "    <tr>\n",
       "      <td>2</td>\n",
       "      <td>67265.0</td>\n",
       "      <td>2100</td>\n",
       "      <td>2100</td>\n",
       "      <td>14.33%</td>\n",
       "      <td>36 months</td>\n",
       "      <td>major_purchase</td>\n",
       "      <td>3.50%</td>\n",
       "      <td>LA</td>\n",
       "      <td>OWN</td>\n",
       "      <td>1000.00</td>\n",
       "      <td>690-694</td>\n",
       "      <td>13</td>\n",
       "      <td>893</td>\n",
       "      <td>1.0</td>\n",
       "      <td>&lt; 1 year</td>\n",
       "      <td>Train</td>\n",
       "    </tr>\n",
       "    <tr>\n",
       "      <td>3</td>\n",
       "      <td>80167.0</td>\n",
       "      <td>28000</td>\n",
       "      <td>28000</td>\n",
       "      <td>16.29%</td>\n",
       "      <td>36 months</td>\n",
       "      <td>credit_card</td>\n",
       "      <td>19.62%</td>\n",
       "      <td>NV</td>\n",
       "      <td>MORTGAGE</td>\n",
       "      <td>7083.33</td>\n",
       "      <td>710-714</td>\n",
       "      <td>12</td>\n",
       "      <td>38194</td>\n",
       "      <td>1.0</td>\n",
       "      <td>10+ years</td>\n",
       "      <td>Train</td>\n",
       "    </tr>\n",
       "    <tr>\n",
       "      <td>4</td>\n",
       "      <td>17240.0</td>\n",
       "      <td>24250</td>\n",
       "      <td>17431.82</td>\n",
       "      <td>12.23%</td>\n",
       "      <td>60 months</td>\n",
       "      <td>credit_card</td>\n",
       "      <td>23.79%</td>\n",
       "      <td>OH</td>\n",
       "      <td>MORTGAGE</td>\n",
       "      <td>5833.33</td>\n",
       "      <td>730-734</td>\n",
       "      <td>6</td>\n",
       "      <td>31061</td>\n",
       "      <td>2.0</td>\n",
       "      <td>10+ years</td>\n",
       "      <td>Train</td>\n",
       "    </tr>\n",
       "  </tbody>\n",
       "</table>\n",
       "</div>"
      ],
      "text/plain": [
       "        ID Amount.Requested Amount.Funded.By.Investors Interest.Rate  \\\n",
       "0  79542.0            25000                      25000        18.49%   \n",
       "1  75473.0            19750                      19750        17.27%   \n",
       "2  67265.0             2100                       2100        14.33%   \n",
       "3  80167.0            28000                      28000        16.29%   \n",
       "4  17240.0            24250                   17431.82        12.23%   \n",
       "\n",
       "  Loan.Length        Loan.Purpose Debt.To.Income.Ratio State Home.Ownership  \\\n",
       "0   60 months  debt_consolidation               27.56%    VA       MORTGAGE   \n",
       "1   60 months  debt_consolidation               13.39%    NY       MORTGAGE   \n",
       "2   36 months      major_purchase                3.50%    LA            OWN   \n",
       "3   36 months         credit_card               19.62%    NV       MORTGAGE   \n",
       "4   60 months         credit_card               23.79%    OH       MORTGAGE   \n",
       "\n",
       "   Monthly.Income FICO.Range Open.CREDIT.Lines Revolving.CREDIT.Balance  \\\n",
       "0         8606.56    720-724                11                    15210   \n",
       "1         6737.50    710-714                14                    19070   \n",
       "2         1000.00    690-694                13                      893   \n",
       "3         7083.33    710-714                12                    38194   \n",
       "4         5833.33    730-734                 6                    31061   \n",
       "\n",
       "   Inquiries.in.the.Last.6.Months Employment.Length   Data  \n",
       "0                             3.0           5 years  Train  \n",
       "1                             3.0           4 years  Train  \n",
       "2                             1.0          < 1 year  Train  \n",
       "3                             1.0         10+ years  Train  \n",
       "4                             2.0         10+ years  Train  "
      ]
     },
     "execution_count": 14,
     "metadata": {},
     "output_type": "execute_result"
    }
   ],
   "source": [
    "loan1.head()"
   ]
  },
  {
   "cell_type": "code",
   "execution_count": 15,
   "metadata": {},
   "outputs": [],
   "source": [
    "loan2= pd.read_csv('C:\\\\Users\\\\JENIFFER JOHN\\\\DSE\\\\SampleData\\\\loan_data_test.csv')"
   ]
  },
  {
   "cell_type": "code",
   "execution_count": 16,
   "metadata": {},
   "outputs": [
    {
     "data": {
      "text/html": [
       "<div>\n",
       "<style scoped>\n",
       "    .dataframe tbody tr th:only-of-type {\n",
       "        vertical-align: middle;\n",
       "    }\n",
       "\n",
       "    .dataframe tbody tr th {\n",
       "        vertical-align: top;\n",
       "    }\n",
       "\n",
       "    .dataframe thead th {\n",
       "        text-align: right;\n",
       "    }\n",
       "</style>\n",
       "<table border=\"1\" class=\"dataframe\">\n",
       "  <thead>\n",
       "    <tr style=\"text-align: right;\">\n",
       "      <th></th>\n",
       "      <th>ID</th>\n",
       "      <th>Amount.Requested</th>\n",
       "      <th>Amount.Funded.By.Investors</th>\n",
       "      <th>Loan.Length</th>\n",
       "      <th>Loan.Purpose</th>\n",
       "      <th>Debt.To.Income.Ratio</th>\n",
       "      <th>State</th>\n",
       "      <th>Home.Ownership</th>\n",
       "      <th>Monthly.Income</th>\n",
       "      <th>FICO.Range</th>\n",
       "      <th>Open.CREDIT.Lines</th>\n",
       "      <th>Revolving.CREDIT.Balance</th>\n",
       "      <th>Inquiries.in.the.Last.6.Months</th>\n",
       "      <th>Employment.Length</th>\n",
       "    </tr>\n",
       "  </thead>\n",
       "  <tbody>\n",
       "    <tr>\n",
       "      <td>0</td>\n",
       "      <td>20093</td>\n",
       "      <td>5000</td>\n",
       "      <td>5000</td>\n",
       "      <td>60 months</td>\n",
       "      <td>moving</td>\n",
       "      <td>12.59%</td>\n",
       "      <td>NY</td>\n",
       "      <td>RENT</td>\n",
       "      <td>4416.67</td>\n",
       "      <td>690-694</td>\n",
       "      <td>13</td>\n",
       "      <td>7686</td>\n",
       "      <td>0</td>\n",
       "      <td>&lt; 1 year</td>\n",
       "    </tr>\n",
       "    <tr>\n",
       "      <td>1</td>\n",
       "      <td>62445</td>\n",
       "      <td>18000</td>\n",
       "      <td>18000</td>\n",
       "      <td>60 months</td>\n",
       "      <td>debt_consolidation</td>\n",
       "      <td>4.93%</td>\n",
       "      <td>CA</td>\n",
       "      <td>RENT</td>\n",
       "      <td>5258.50</td>\n",
       "      <td>710-714</td>\n",
       "      <td>6</td>\n",
       "      <td>11596</td>\n",
       "      <td>0</td>\n",
       "      <td>10+ years</td>\n",
       "    </tr>\n",
       "    <tr>\n",
       "      <td>2</td>\n",
       "      <td>65248</td>\n",
       "      <td>7200</td>\n",
       "      <td>7200</td>\n",
       "      <td>60 months</td>\n",
       "      <td>debt_consolidation</td>\n",
       "      <td>25.16%</td>\n",
       "      <td>LA</td>\n",
       "      <td>MORTGAGE</td>\n",
       "      <td>3750.00</td>\n",
       "      <td>750-754</td>\n",
       "      <td>13</td>\n",
       "      <td>7283</td>\n",
       "      <td>0</td>\n",
       "      <td>6 years</td>\n",
       "    </tr>\n",
       "    <tr>\n",
       "      <td>3</td>\n",
       "      <td>81822</td>\n",
       "      <td>7200</td>\n",
       "      <td>7200</td>\n",
       "      <td>36 months</td>\n",
       "      <td>debt_consolidation</td>\n",
       "      <td>17.27%</td>\n",
       "      <td>NY</td>\n",
       "      <td>MORTGAGE</td>\n",
       "      <td>3416.67</td>\n",
       "      <td>790-794</td>\n",
       "      <td>14</td>\n",
       "      <td>4838</td>\n",
       "      <td>0</td>\n",
       "      <td>10+ years</td>\n",
       "    </tr>\n",
       "    <tr>\n",
       "      <td>4</td>\n",
       "      <td>57923</td>\n",
       "      <td>22000</td>\n",
       "      <td>22000</td>\n",
       "      <td>60 months</td>\n",
       "      <td>debt_consolidation</td>\n",
       "      <td>18.28%</td>\n",
       "      <td>MI</td>\n",
       "      <td>MORTGAGE</td>\n",
       "      <td>6083.33</td>\n",
       "      <td>720-724</td>\n",
       "      <td>9</td>\n",
       "      <td>20181</td>\n",
       "      <td>0</td>\n",
       "      <td>8 years</td>\n",
       "    </tr>\n",
       "  </tbody>\n",
       "</table>\n",
       "</div>"
      ],
      "text/plain": [
       "      ID  Amount.Requested Amount.Funded.By.Investors Loan.Length  \\\n",
       "0  20093              5000                       5000   60 months   \n",
       "1  62445             18000                      18000   60 months   \n",
       "2  65248              7200                       7200   60 months   \n",
       "3  81822              7200                       7200   36 months   \n",
       "4  57923             22000                      22000   60 months   \n",
       "\n",
       "         Loan.Purpose Debt.To.Income.Ratio State Home.Ownership  \\\n",
       "0              moving               12.59%    NY           RENT   \n",
       "1  debt_consolidation                4.93%    CA           RENT   \n",
       "2  debt_consolidation               25.16%    LA       MORTGAGE   \n",
       "3  debt_consolidation               17.27%    NY       MORTGAGE   \n",
       "4  debt_consolidation               18.28%    MI       MORTGAGE   \n",
       "\n",
       "   Monthly.Income FICO.Range Open.CREDIT.Lines  Revolving.CREDIT.Balance  \\\n",
       "0         4416.67    690-694                13                      7686   \n",
       "1         5258.50    710-714                 6                     11596   \n",
       "2         3750.00    750-754                13                      7283   \n",
       "3         3416.67    790-794                14                      4838   \n",
       "4         6083.33    720-724                 9                     20181   \n",
       "\n",
       "   Inquiries.in.the.Last.6.Months Employment.Length  \n",
       "0                               0          < 1 year  \n",
       "1                               0         10+ years  \n",
       "2                               0           6 years  \n",
       "3                               0         10+ years  \n",
       "4                               0           8 years  "
      ]
     },
     "execution_count": 16,
     "metadata": {},
     "output_type": "execute_result"
    }
   ],
   "source": [
    "loan2.head()"
   ]
  },
  {
   "cell_type": "code",
   "execution_count": 17,
   "metadata": {},
   "outputs": [],
   "source": [
    "loan2['Data']='Test'"
   ]
  },
  {
   "cell_type": "code",
   "execution_count": 18,
   "metadata": {},
   "outputs": [
    {
     "data": {
      "text/plain": [
       "(300, 15)"
      ]
     },
     "execution_count": 18,
     "metadata": {},
     "output_type": "execute_result"
    }
   ],
   "source": [
    "loan2.shape"
   ]
  },
  {
   "cell_type": "markdown",
   "metadata": {},
   "source": [
    "# Train and Test concatenation"
   ]
  },
  {
   "cell_type": "code",
   "execution_count": 19,
   "metadata": {},
   "outputs": [
    {
     "data": {
      "text/html": [
       "<div>\n",
       "<style scoped>\n",
       "    .dataframe tbody tr th:only-of-type {\n",
       "        vertical-align: middle;\n",
       "    }\n",
       "\n",
       "    .dataframe tbody tr th {\n",
       "        vertical-align: top;\n",
       "    }\n",
       "\n",
       "    .dataframe thead th {\n",
       "        text-align: right;\n",
       "    }\n",
       "</style>\n",
       "<table border=\"1\" class=\"dataframe\">\n",
       "  <thead>\n",
       "    <tr style=\"text-align: right;\">\n",
       "      <th></th>\n",
       "      <th>Amount.Funded.By.Investors</th>\n",
       "      <th>Amount.Requested</th>\n",
       "      <th>Data</th>\n",
       "      <th>Debt.To.Income.Ratio</th>\n",
       "      <th>Employment.Length</th>\n",
       "      <th>FICO.Range</th>\n",
       "      <th>Home.Ownership</th>\n",
       "      <th>ID</th>\n",
       "      <th>Inquiries.in.the.Last.6.Months</th>\n",
       "      <th>Interest.Rate</th>\n",
       "      <th>Loan.Length</th>\n",
       "      <th>Loan.Purpose</th>\n",
       "      <th>Monthly.Income</th>\n",
       "      <th>Open.CREDIT.Lines</th>\n",
       "      <th>Revolving.CREDIT.Balance</th>\n",
       "      <th>State</th>\n",
       "    </tr>\n",
       "  </thead>\n",
       "  <tbody>\n",
       "    <tr>\n",
       "      <td>2495</td>\n",
       "      <td>11975</td>\n",
       "      <td>12000</td>\n",
       "      <td>Test</td>\n",
       "      <td>13.91%</td>\n",
       "      <td>7 years</td>\n",
       "      <td>705-709</td>\n",
       "      <td>MORTGAGE</td>\n",
       "      <td>24675.0</td>\n",
       "      <td>2.0</td>\n",
       "      <td>NaN</td>\n",
       "      <td>60 months</td>\n",
       "      <td>home_improvement</td>\n",
       "      <td>7083.33</td>\n",
       "      <td>7</td>\n",
       "      <td>3923</td>\n",
       "      <td>NV</td>\n",
       "    </tr>\n",
       "    <tr>\n",
       "      <td>2496</td>\n",
       "      <td>5000</td>\n",
       "      <td>5000</td>\n",
       "      <td>Test</td>\n",
       "      <td>17.22%</td>\n",
       "      <td>10+ years</td>\n",
       "      <td>705-709</td>\n",
       "      <td>OWN</td>\n",
       "      <td>69456.0</td>\n",
       "      <td>0.0</td>\n",
       "      <td>NaN</td>\n",
       "      <td>36 months</td>\n",
       "      <td>debt_consolidation</td>\n",
       "      <td>4000.00</td>\n",
       "      <td>10</td>\n",
       "      <td>6023</td>\n",
       "      <td>CA</td>\n",
       "    </tr>\n",
       "    <tr>\n",
       "      <td>2497</td>\n",
       "      <td>4375</td>\n",
       "      <td>4375</td>\n",
       "      <td>Test</td>\n",
       "      <td>9.09%</td>\n",
       "      <td>6 years</td>\n",
       "      <td>670-674</td>\n",
       "      <td>RENT</td>\n",
       "      <td>97954.0</td>\n",
       "      <td>2.0</td>\n",
       "      <td>NaN</td>\n",
       "      <td>36 months</td>\n",
       "      <td>credit_card</td>\n",
       "      <td>2916.67</td>\n",
       "      <td>9</td>\n",
       "      <td>6944</td>\n",
       "      <td>CA</td>\n",
       "    </tr>\n",
       "    <tr>\n",
       "      <td>2498</td>\n",
       "      <td>13600</td>\n",
       "      <td>13600</td>\n",
       "      <td>Test</td>\n",
       "      <td>12.85%</td>\n",
       "      <td>10+ years</td>\n",
       "      <td>675-679</td>\n",
       "      <td>RENT</td>\n",
       "      <td>36931.0</td>\n",
       "      <td>0.0</td>\n",
       "      <td>NaN</td>\n",
       "      <td>60 months</td>\n",
       "      <td>credit_card</td>\n",
       "      <td>5651.33</td>\n",
       "      <td>13</td>\n",
       "      <td>24383</td>\n",
       "      <td>MN</td>\n",
       "    </tr>\n",
       "    <tr>\n",
       "      <td>2499</td>\n",
       "      <td>6000</td>\n",
       "      <td>6000</td>\n",
       "      <td>Test</td>\n",
       "      <td>7.64%</td>\n",
       "      <td>2 years</td>\n",
       "      <td>675-679</td>\n",
       "      <td>MORTGAGE</td>\n",
       "      <td>34744.0</td>\n",
       "      <td>0.0</td>\n",
       "      <td>NaN</td>\n",
       "      <td>36 months</td>\n",
       "      <td>debt_consolidation</td>\n",
       "      <td>5184.75</td>\n",
       "      <td>8</td>\n",
       "      <td>14422</td>\n",
       "      <td>IL</td>\n",
       "    </tr>\n",
       "  </tbody>\n",
       "</table>\n",
       "</div>"
      ],
      "text/plain": [
       "     Amount.Funded.By.Investors Amount.Requested  Data Debt.To.Income.Ratio  \\\n",
       "2495                      11975            12000  Test               13.91%   \n",
       "2496                       5000             5000  Test               17.22%   \n",
       "2497                       4375             4375  Test                9.09%   \n",
       "2498                      13600            13600  Test               12.85%   \n",
       "2499                       6000             6000  Test                7.64%   \n",
       "\n",
       "     Employment.Length FICO.Range Home.Ownership       ID  \\\n",
       "2495           7 years    705-709       MORTGAGE  24675.0   \n",
       "2496         10+ years    705-709            OWN  69456.0   \n",
       "2497           6 years    670-674           RENT  97954.0   \n",
       "2498         10+ years    675-679           RENT  36931.0   \n",
       "2499           2 years    675-679       MORTGAGE  34744.0   \n",
       "\n",
       "      Inquiries.in.the.Last.6.Months Interest.Rate Loan.Length  \\\n",
       "2495                             2.0           NaN   60 months   \n",
       "2496                             0.0           NaN   36 months   \n",
       "2497                             2.0           NaN   36 months   \n",
       "2498                             0.0           NaN   60 months   \n",
       "2499                             0.0           NaN   36 months   \n",
       "\n",
       "            Loan.Purpose  Monthly.Income Open.CREDIT.Lines  \\\n",
       "2495    home_improvement         7083.33                 7   \n",
       "2496  debt_consolidation         4000.00                10   \n",
       "2497         credit_card         2916.67                 9   \n",
       "2498         credit_card         5651.33                13   \n",
       "2499  debt_consolidation         5184.75                 8   \n",
       "\n",
       "     Revolving.CREDIT.Balance State  \n",
       "2495                     3923    NV  \n",
       "2496                     6023    CA  \n",
       "2497                     6944    CA  \n",
       "2498                    24383    MN  \n",
       "2499                    14422    IL  "
      ]
     },
     "execution_count": 19,
     "metadata": {},
     "output_type": "execute_result"
    }
   ],
   "source": [
    "loan= pd.concat([loan1,loan2],axis=0,ignore_index=True)\n",
    "loan.tail(5)"
   ]
  },
  {
   "cell_type": "code",
   "execution_count": 20,
   "metadata": {},
   "outputs": [
    {
     "name": "stdout",
     "output_type": "stream",
     "text": [
      "<class 'pandas.core.frame.DataFrame'>\n",
      "RangeIndex: 2500 entries, 0 to 2499\n",
      "Data columns (total 16 columns):\n",
      "Amount.Funded.By.Investors        2499 non-null object\n",
      "Amount.Requested                  2499 non-null object\n",
      "Data                              2500 non-null object\n",
      "Debt.To.Income.Ratio              2499 non-null object\n",
      "Employment.Length                 2422 non-null object\n",
      "FICO.Range                        2500 non-null object\n",
      "Home.Ownership                    2499 non-null object\n",
      "ID                                2499 non-null float64\n",
      "Inquiries.in.the.Last.6.Months    2497 non-null float64\n",
      "Interest.Rate                     2200 non-null object\n",
      "Loan.Length                       2499 non-null object\n",
      "Loan.Purpose                      2499 non-null object\n",
      "Monthly.Income                    2497 non-null float64\n",
      "Open.CREDIT.Lines                 2496 non-null object\n",
      "Revolving.CREDIT.Balance          2497 non-null object\n",
      "State                             2499 non-null object\n",
      "dtypes: float64(3), object(13)\n",
      "memory usage: 312.6+ KB\n"
     ]
    }
   ],
   "source": [
    "loan.info()"
   ]
  },
  {
   "cell_type": "code",
   "execution_count": 21,
   "metadata": {},
   "outputs": [
    {
     "data": {
      "text/plain": [
       "Amount.Funded.By.Investors          1\n",
       "Amount.Requested                    1\n",
       "Data                                0\n",
       "Debt.To.Income.Ratio                1\n",
       "Employment.Length                  78\n",
       "FICO.Range                          0\n",
       "Home.Ownership                      1\n",
       "ID                                  1\n",
       "Inquiries.in.the.Last.6.Months      3\n",
       "Interest.Rate                     300\n",
       "Loan.Length                         1\n",
       "Loan.Purpose                        1\n",
       "Monthly.Income                      3\n",
       "Open.CREDIT.Lines                   4\n",
       "Revolving.CREDIT.Balance            3\n",
       "State                               1\n",
       "dtype: int64"
      ]
     },
     "execution_count": 21,
     "metadata": {},
     "output_type": "execute_result"
    }
   ],
   "source": [
    "loan.isnull().sum()"
   ]
  },
  {
   "cell_type": "code",
   "execution_count": 22,
   "metadata": {},
   "outputs": [
    {
     "data": {
      "text/plain": [
       "(2500, 16)"
      ]
     },
     "execution_count": 22,
     "metadata": {},
     "output_type": "execute_result"
    }
   ],
   "source": [
    "loan.shape"
   ]
  },
  {
   "cell_type": "markdown",
   "metadata": {},
   "source": [
    "# Data Cleaning "
   ]
  },
  {
   "cell_type": "code",
   "execution_count": 29,
   "metadata": {},
   "outputs": [],
   "source": [
    "loan=loan.replace('.',np.nan)"
   ]
  },
  {
   "cell_type": "code",
   "execution_count": 33,
   "metadata": {},
   "outputs": [
    {
     "data": {
      "text/html": [
       "<div>\n",
       "<style scoped>\n",
       "    .dataframe tbody tr th:only-of-type {\n",
       "        vertical-align: middle;\n",
       "    }\n",
       "\n",
       "    .dataframe tbody tr th {\n",
       "        vertical-align: top;\n",
       "    }\n",
       "\n",
       "    .dataframe thead th {\n",
       "        text-align: right;\n",
       "    }\n",
       "</style>\n",
       "<table border=\"1\" class=\"dataframe\">\n",
       "  <thead>\n",
       "    <tr style=\"text-align: right;\">\n",
       "      <th></th>\n",
       "      <th>Amount.Funded.By.Investors</th>\n",
       "      <th>Amount.Requested</th>\n",
       "      <th>Data</th>\n",
       "      <th>Debt.To.Income.Ratio</th>\n",
       "      <th>Employment.Length</th>\n",
       "      <th>FICO.Range</th>\n",
       "      <th>Home.Ownership</th>\n",
       "      <th>ID</th>\n",
       "      <th>Inquiries.in.the.Last.6.Months</th>\n",
       "      <th>Interest.Rate</th>\n",
       "      <th>Loan.Length</th>\n",
       "      <th>Loan.Purpose</th>\n",
       "      <th>Monthly.Income</th>\n",
       "      <th>Open.CREDIT.Lines</th>\n",
       "      <th>Revolving.CREDIT.Balance</th>\n",
       "      <th>State</th>\n",
       "    </tr>\n",
       "  </thead>\n",
       "  <tbody>\n",
       "  </tbody>\n",
       "</table>\n",
       "</div>"
      ],
      "text/plain": [
       "Empty DataFrame\n",
       "Columns: [Amount.Funded.By.Investors, Amount.Requested, Data, Debt.To.Income.Ratio, Employment.Length, FICO.Range, Home.Ownership, ID, Inquiries.in.the.Last.6.Months, Interest.Rate, Loan.Length, Loan.Purpose, Monthly.Income, Open.CREDIT.Lines, Revolving.CREDIT.Balance, State]\n",
       "Index: []"
      ]
     },
     "execution_count": 33,
     "metadata": {},
     "output_type": "execute_result"
    }
   ],
   "source": [
    "loan[loan[i]=='.']"
   ]
  },
  {
   "cell_type": "code",
   "execution_count": 16,
   "metadata": {},
   "outputs": [],
   "source": [
    "loan.drop(columns=['Amount.Funded.By.Investors','ID'],inplace=True)"
   ]
  },
  {
   "cell_type": "code",
   "execution_count": 17,
   "metadata": {},
   "outputs": [
    {
     "data": {
      "text/plain": [
       "(2500, 14)"
      ]
     },
     "execution_count": 17,
     "metadata": {},
     "output_type": "execute_result"
    }
   ],
   "source": [
    "loan.shape"
   ]
  },
  {
   "cell_type": "code",
   "execution_count": 18,
   "metadata": {},
   "outputs": [],
   "source": [
    "loan['Debt.To.Income.Ratio']=loan['Debt.To.Income.Ratio'].apply(lambda x :str(x).strip('%'))"
   ]
  },
  {
   "cell_type": "code",
   "execution_count": 19,
   "metadata": {},
   "outputs": [],
   "source": [
    "loan['Employment.Length']=list(map(lambda x:str(x).strip('years'),loan['Employment.Length']))\n",
    "loan['Employment.Length']=list(map(lambda x:str(x).replace('< 1','0'),loan['Employment.Length']))\n",
    "loan['Employment.Length']=list(map(lambda x:str(x).replace('10+','10'),loan['Employment.Length']))\n",
    "loan['Employment.Length'].replace('nan',0,inplace=True)"
   ]
  },
  {
   "cell_type": "code",
   "execution_count": 20,
   "metadata": {},
   "outputs": [],
   "source": [
    "loan['FICO']=loan['FICO.Range'].str.split('-')\n",
    "loan['FICO']=loan['FICO'].apply(lambda x: (int(x[0])+ int(x[1]) )/2 )"
   ]
  },
  {
   "cell_type": "code",
   "execution_count": 21,
   "metadata": {},
   "outputs": [],
   "source": [
    "loan=loan.drop(columns=['FICO.Range'],axis=1)"
   ]
  },
  {
   "cell_type": "code",
   "execution_count": 22,
   "metadata": {},
   "outputs": [],
   "source": [
    "loan['Interest.Rate']=loan['Interest.Rate'].str.replace('%','')"
   ]
  },
  {
   "cell_type": "markdown",
   "metadata": {},
   "source": [
    "# Data type conversion"
   ]
  },
  {
   "cell_type": "code",
   "execution_count": 23,
   "metadata": {},
   "outputs": [],
   "source": [
    "for col in ['Amount.Requested','Interest.Rate','Debt.To.Income.Ratio',\n",
    "             'Employment.Length','Open.CREDIT.Lines','Revolving.CREDIT.Balance']:\n",
    "    loan[col]=pd.to_numeric(loan[col],errors='coerce')"
   ]
  },
  {
   "cell_type": "code",
   "execution_count": 24,
   "metadata": {},
   "outputs": [
    {
     "name": "stdout",
     "output_type": "stream",
     "text": [
      "<class 'pandas.core.frame.DataFrame'>\n",
      "RangeIndex: 2500 entries, 0 to 2499\n",
      "Data columns (total 14 columns):\n",
      "Amount.Requested                  2495 non-null float64\n",
      "Data                              2500 non-null object\n",
      "Debt.To.Income.Ratio              2499 non-null float64\n",
      "Employment.Length                 2500 non-null int64\n",
      "Home.Ownership                    2499 non-null object\n",
      "Inquiries.in.the.Last.6.Months    2497 non-null float64\n",
      "Interest.Rate                     2200 non-null float64\n",
      "Loan.Length                       2498 non-null object\n",
      "Loan.Purpose                      2499 non-null object\n",
      "Monthly.Income                    2497 non-null float64\n",
      "Open.CREDIT.Lines                 2491 non-null float64\n",
      "Revolving.CREDIT.Balance          2495 non-null float64\n",
      "State                             2498 non-null object\n",
      "FICO                              2500 non-null float64\n",
      "dtypes: float64(8), int64(1), object(5)\n",
      "memory usage: 273.6+ KB\n"
     ]
    }
   ],
   "source": [
    "loan.info()"
   ]
  },
  {
   "cell_type": "markdown",
   "metadata": {},
   "source": [
    "# Null-value imputation whole concatenated dataset using train data's mean values "
   ]
  },
  {
   "cell_type": "code",
   "execution_count": 25,
   "metadata": {},
   "outputs": [],
   "source": [
    "numeric_columns=loan.select_dtypes(exclude='object').columns\n",
    "for i in numeric_columns:\n",
    "    if( i not in ['Interest.Rate']) & (loan[i].isnull().sum()!=0):\n",
    "        meanval=loan[loan['Data']=='Train'][i].mean()\n",
    "        loan[i] = loan[i].replace(np.nan,meanval)  "
   ]
  },
  {
   "cell_type": "code",
   "execution_count": 26,
   "metadata": {},
   "outputs": [
    {
     "data": {
      "text/plain": [
       "Index(['Data', 'Home.Ownership', 'Loan.Length', 'Loan.Purpose', 'State'], dtype='object')"
      ]
     },
     "execution_count": 26,
     "metadata": {},
     "output_type": "execute_result"
    }
   ],
   "source": [
    "categ_columns=loan.select_dtypes(include='object').columns\n",
    "for i in categ_columns:\n",
    "    if (i not in ['Data']) & (loan[i].isnull().sum()!=0):\n",
    "        modeval=loan[loan['Data']=='Train'][i].mode()\n",
    "        loan[i] = loan[i].astype(str).replace(np.nan,modeval)  \n",
    "categ_columns"
   ]
  },
  {
   "cell_type": "code",
   "execution_count": 27,
   "metadata": {},
   "outputs": [
    {
     "data": {
      "text/plain": [
       "Amount.Requested                    0\n",
       "Data                                0\n",
       "Debt.To.Income.Ratio                0\n",
       "Employment.Length                   0\n",
       "Home.Ownership                      0\n",
       "Inquiries.in.the.Last.6.Months      0\n",
       "Interest.Rate                     300\n",
       "Loan.Length                         0\n",
       "Loan.Purpose                        0\n",
       "Monthly.Income                      0\n",
       "Open.CREDIT.Lines                   0\n",
       "Revolving.CREDIT.Balance            0\n",
       "State                               0\n",
       "FICO                                0\n",
       "dtype: int64"
      ]
     },
     "execution_count": 27,
     "metadata": {},
     "output_type": "execute_result"
    }
   ],
   "source": [
    "loan.isnull().sum()"
   ]
  },
  {
   "cell_type": "code",
   "execution_count": 28,
   "metadata": {},
   "outputs": [],
   "source": [
    "loan.to_excel('output5.xlsx',sheet_name='Sheet_name_1')"
   ]
  },
  {
   "cell_type": "markdown",
   "metadata": {},
   "source": [
    "# Creating dummies for catergorical variables"
   ]
  },
  {
   "cell_type": "code",
   "execution_count": 29,
   "metadata": {},
   "outputs": [
    {
     "data": {
      "text/plain": [
       "Index(['Home.Ownership', 'Loan.Length', 'Loan.Purpose', 'State'], dtype='object')"
      ]
     },
     "execution_count": 29,
     "metadata": {},
     "output_type": "execute_result"
    }
   ],
   "source": [
    "cat_cols=loan.select_dtypes('object').columns\n",
    "cat_cols=cat_cols.drop(['Data'])\n",
    "cat_cols"
   ]
  },
  {
   "cell_type": "code",
   "execution_count": 30,
   "metadata": {},
   "outputs": [
    {
     "data": {
      "text/plain": [
       "36 months    1950\n",
       "60 months     548\n",
       "nan             2\n",
       "Name: Loan.Length, dtype: int64"
      ]
     },
     "execution_count": 30,
     "metadata": {},
     "output_type": "execute_result"
    }
   ],
   "source": [
    "loan['Loan.Length'].value_counts()"
   ]
  },
  {
   "cell_type": "code",
   "execution_count": 31,
   "metadata": {},
   "outputs": [
    {
     "name": "stdout",
     "output_type": "stream",
     "text": [
      "Home.Ownership\n",
      "Loan.Length\n",
      "Loan.Purpose\n",
      "State\n"
     ]
    }
   ],
   "source": [
    "for col in cat_cols:\n",
    "    freqs=loan[col].value_counts()\n",
    "    k=freqs.index[freqs>20][:-1]\n",
    "    for cat in k:\n",
    "        name=col+'_'+cat\n",
    "        loan[name]=(loan[col]==cat).astype(int)\n",
    "    del loan[col]\n",
    "    print(col)"
   ]
  },
  {
   "cell_type": "code",
   "execution_count": 32,
   "metadata": {},
   "outputs": [
    {
     "name": "stdout",
     "output_type": "stream",
     "text": [
      "<class 'pandas.core.frame.DataFrame'>\n",
      "RangeIndex: 2500 entries, 0 to 2499\n",
      "Data columns (total 51 columns):\n",
      "Amount.Requested                   2500 non-null float64\n",
      "Data                               2500 non-null object\n",
      "Debt.To.Income.Ratio               2500 non-null float64\n",
      "Employment.Length                  2500 non-null int64\n",
      "Inquiries.in.the.Last.6.Months     2500 non-null float64\n",
      "Interest.Rate                      2200 non-null float64\n",
      "Monthly.Income                     2500 non-null float64\n",
      "Open.CREDIT.Lines                  2500 non-null float64\n",
      "Revolving.CREDIT.Balance           2500 non-null float64\n",
      "FICO                               2500 non-null float64\n",
      "Home.Ownership_MORTGAGE            2500 non-null int32\n",
      "Home.Ownership_RENT                2500 non-null int32\n",
      "Loan.Length_36 months              2500 non-null int32\n",
      "Loan.Purpose_debt_consolidation    2500 non-null int32\n",
      "Loan.Purpose_credit_card           2500 non-null int32\n",
      "Loan.Purpose_other                 2500 non-null int32\n",
      "Loan.Purpose_home_improvement      2500 non-null int32\n",
      "Loan.Purpose_major_purchase        2500 non-null int32\n",
      "Loan.Purpose_small_business        2500 non-null int32\n",
      "Loan.Purpose_car                   2500 non-null int32\n",
      "Loan.Purpose_wedding               2500 non-null int32\n",
      "Loan.Purpose_medical               2500 non-null int32\n",
      "Loan.Purpose_moving                2500 non-null int32\n",
      "State_CA                           2500 non-null int32\n",
      "State_NY                           2500 non-null int32\n",
      "State_TX                           2500 non-null int32\n",
      "State_FL                           2500 non-null int32\n",
      "State_IL                           2500 non-null int32\n",
      "State_GA                           2500 non-null int32\n",
      "State_PA                           2500 non-null int32\n",
      "State_NJ                           2500 non-null int32\n",
      "State_VA                           2500 non-null int32\n",
      "State_MA                           2500 non-null int32\n",
      "State_OH                           2500 non-null int32\n",
      "State_MD                           2500 non-null int32\n",
      "State_NC                           2500 non-null int32\n",
      "State_CO                           2500 non-null int32\n",
      "State_WA                           2500 non-null int32\n",
      "State_CT                           2500 non-null int32\n",
      "State_AZ                           2500 non-null int32\n",
      "State_MI                           2500 non-null int32\n",
      "State_AL                           2500 non-null int32\n",
      "State_MN                           2500 non-null int32\n",
      "State_MO                           2500 non-null int32\n",
      "State_NV                           2500 non-null int32\n",
      "State_OR                           2500 non-null int32\n",
      "State_SC                           2500 non-null int32\n",
      "State_WI                           2500 non-null int32\n",
      "State_KY                           2500 non-null int32\n",
      "State_LA                           2500 non-null int32\n",
      "State_OK                           2500 non-null int32\n",
      "dtypes: float64(8), int32(41), int64(1), object(1)\n",
      "memory usage: 595.8+ KB\n"
     ]
    }
   ],
   "source": [
    "loan.info()"
   ]
  },
  {
   "cell_type": "code",
   "execution_count": 33,
   "metadata": {},
   "outputs": [
    {
     "data": {
      "text/plain": [
       "(2500, 51)"
      ]
     },
     "execution_count": 33,
     "metadata": {},
     "output_type": "execute_result"
    }
   ],
   "source": [
    "loan.shape"
   ]
  },
  {
   "cell_type": "markdown",
   "metadata": {},
   "source": [
    "# Splitting Test and Train "
   ]
  },
  {
   "cell_type": "code",
   "execution_count": 34,
   "metadata": {},
   "outputs": [
    {
     "data": {
      "text/plain": [
       "(2200, 51)"
      ]
     },
     "execution_count": 34,
     "metadata": {},
     "output_type": "execute_result"
    }
   ],
   "source": [
    "traindf = loan[loan['Data']=='Train']\n",
    "traindf.shape"
   ]
  },
  {
   "cell_type": "code",
   "execution_count": 35,
   "metadata": {},
   "outputs": [
    {
     "data": {
      "text/plain": [
       "(300, 51)"
      ]
     },
     "execution_count": 35,
     "metadata": {},
     "output_type": "execute_result"
    }
   ],
   "source": [
    "testdf =loan[loan['Data']=='Test']\n",
    "testdf.shape"
   ]
  },
  {
   "cell_type": "code",
   "execution_count": 45,
   "metadata": {},
   "outputs": [
    {
     "data": {
      "text/plain": [
       "((2200, 49), (2200,))"
      ]
     },
     "execution_count": 45,
     "metadata": {},
     "output_type": "execute_result"
    }
   ],
   "source": [
    "X=traindf.drop(['Interest.Rate','Data'],axis=1)\n",
    "y=traindf['Interest.Rate']\n",
    "X.shape, y.shape"
   ]
  },
  {
   "cell_type": "code",
   "execution_count": 49,
   "metadata": {},
   "outputs": [],
   "source": [
    "from sklearn.model_selection import train_test_split\n",
    "X_train,X_tr_train,y_train,y_tr_train=train_test_split(X,y,test_size=0.2,random_state=2)"
   ]
  },
  {
   "cell_type": "markdown",
   "metadata": {},
   "source": [
    "# Building base model"
   ]
  },
  {
   "cell_type": "code",
   "execution_count": 51,
   "metadata": {},
   "outputs": [
    {
     "data": {
      "text/plain": [
       "LinearRegression(copy_X=True, fit_intercept=True, n_jobs=None, normalize=False)"
      ]
     },
     "execution_count": 51,
     "metadata": {},
     "output_type": "execute_result"
    }
   ],
   "source": [
    "lin_reg= LinearRegression()\n",
    "lin_reg.fit(X_train,y_train)"
   ]
  },
  {
   "cell_type": "code",
   "execution_count": 52,
   "metadata": {},
   "outputs": [
    {
     "name": "stdout",
     "output_type": "stream",
     "text": [
      "Intercept: 76.06657958541928\n"
     ]
    }
   ],
   "source": [
    "print('Intercept:',lin_reg.intercept_)"
   ]
  },
  {
   "cell_type": "code",
   "execution_count": 53,
   "metadata": {},
   "outputs": [
    {
     "data": {
      "text/plain": [
       "[('Amount.Requested', 0.0001563895947713165),\n",
       " ('Debt.To.Income.Ratio', -0.0038000805994207717),\n",
       " ('Employment.Length', 0.027121105715826155),\n",
       " ('Inquiries.in.the.Last.6.Months', 0.3365251665045092),\n",
       " ('Monthly.Income', -2.664553953218851e-05),\n",
       " ('Open.CREDIT.Lines', -0.04048263117051154),\n",
       " ('Revolving.CREDIT.Balance', -3.9668399711700886e-06),\n",
       " ('FICO', -0.08669575302869309),\n",
       " ('Home.Ownership_MORTGAGE', -0.48296527234741404),\n",
       " ('Home.Ownership_RENT', -0.23868445539165928),\n",
       " ('Loan.Length_36 months', -3.1428776050032003),\n",
       " ('Loan.Purpose_debt_consolidation', -0.4712648677433424),\n",
       " ('Loan.Purpose_credit_card', -0.61239673101994),\n",
       " ('Loan.Purpose_other', 0.4447508174274506),\n",
       " ('Loan.Purpose_home_improvement', -0.3728310363973284),\n",
       " ('Loan.Purpose_major_purchase', -0.10567730482750379),\n",
       " ('Loan.Purpose_small_business', 0.060126539282745306),\n",
       " ('Loan.Purpose_car', 0.006374218187683078),\n",
       " ('Loan.Purpose_wedding', -0.7921428316396416),\n",
       " ('Loan.Purpose_medical', -0.41514519640478853),\n",
       " ('Loan.Purpose_moving', 1.2696109280330077),\n",
       " ('State_CA', -0.2901549280950454),\n",
       " ('State_NY', -0.20464112328389844),\n",
       " ('State_TX', 0.37470541589327155),\n",
       " ('State_FL', 0.004077072632766455),\n",
       " ('State_IL', -0.7304248778144887),\n",
       " ('State_GA', -0.11992040573862814),\n",
       " ('State_PA', -0.6410419612732086),\n",
       " ('State_NJ', -0.5001899102627657),\n",
       " ('State_VA', -0.27174041122426396),\n",
       " ('State_MA', 0.014427073366622883),\n",
       " ('State_OH', -0.436451332290004),\n",
       " ('State_MD', -0.10508911830184056),\n",
       " ('State_NC', -0.3734300306784615),\n",
       " ('State_CO', -0.14040249273226438),\n",
       " ('State_WA', -0.3140403918896605),\n",
       " ('State_CT', 0.3585290154551792),\n",
       " ('State_AZ', 0.1773518647420198),\n",
       " ('State_MI', -0.2392295917032607),\n",
       " ('State_AL', -0.3989637883068357),\n",
       " ('State_MN', -0.15844738770549957),\n",
       " ('State_MO', -0.5217677816685808),\n",
       " ('State_NV', -0.2038159329102677),\n",
       " ('State_OR', 0.04276977567647997),\n",
       " ('State_SC', -0.04602887344461132),\n",
       " ('State_WI', -0.24836791597212007),\n",
       " ('State_KY', 0.1926004541862094),\n",
       " ('State_LA', -0.13820071667385073),\n",
       " ('State_OK', -0.42740744534494995)]"
      ]
     },
     "execution_count": 53,
     "metadata": {},
     "output_type": "execute_result"
    }
   ],
   "source": [
    "list(zip(X_train.columns,lin_reg.coef_))"
   ]
  },
  {
   "cell_type": "code",
   "execution_count": 54,
   "metadata": {},
   "outputs": [
    {
     "name": "stdout",
     "output_type": "stream",
     "text": [
      "R2: 0.7634242870607358\n"
     ]
    }
   ],
   "source": [
    "print('R2:',lin_reg.score(X_train,y_train))"
   ]
  },
  {
   "cell_type": "code",
   "execution_count": 61,
   "metadata": {},
   "outputs": [
    {
     "data": {
      "text/html": [
       "<table class=\"simpletable\">\n",
       "<caption>OLS Regression Results</caption>\n",
       "<tr>\n",
       "  <th>Dep. Variable:</th>      <td>Interest.Rate</td>  <th>  R-squared:         </th> <td>   0.764</td>\n",
       "</tr>\n",
       "<tr>\n",
       "  <th>Model:</th>                   <td>OLS</td>       <th>  Adj. R-squared:    </th> <td>   0.759</td>\n",
       "</tr>\n",
       "<tr>\n",
       "  <th>Method:</th>             <td>Least Squares</td>  <th>  F-statistic:       </th> <td>   142.1</td>\n",
       "</tr>\n",
       "<tr>\n",
       "  <th>Date:</th>             <td>Fri, 21 Feb 2020</td> <th>  Prob (F-statistic):</th>  <td>  0.00</td> \n",
       "</tr>\n",
       "<tr>\n",
       "  <th>Time:</th>                 <td>19:24:12</td>     <th>  Log-Likelihood:    </th> <td> -4675.7</td>\n",
       "</tr>\n",
       "<tr>\n",
       "  <th>No. Observations:</th>      <td>  2200</td>      <th>  AIC:               </th> <td>   9451.</td>\n",
       "</tr>\n",
       "<tr>\n",
       "  <th>Df Residuals:</th>          <td>  2150</td>      <th>  BIC:               </th> <td>   9736.</td>\n",
       "</tr>\n",
       "<tr>\n",
       "  <th>Df Model:</th>              <td>    49</td>      <th>                     </th>     <td> </td>   \n",
       "</tr>\n",
       "<tr>\n",
       "  <th>Covariance Type:</th>      <td>nonrobust</td>    <th>                     </th>     <td> </td>   \n",
       "</tr>\n",
       "</table>\n",
       "<table class=\"simpletable\">\n",
       "<tr>\n",
       "                 <td></td>                    <th>coef</th>     <th>std err</th>      <th>t</th>      <th>P>|t|</th>  <th>[0.025</th>    <th>0.975]</th>  \n",
       "</tr>\n",
       "<tr>\n",
       "  <th>const</th>                           <td>   76.0094</td> <td>    1.056</td> <td>   71.993</td> <td> 0.000</td> <td>   73.939</td> <td>   78.080</td>\n",
       "</tr>\n",
       "<tr>\n",
       "  <th>Amount.Requested</th>                <td>    0.0002</td> <td> 7.19e-06</td> <td>   22.326</td> <td> 0.000</td> <td>    0.000</td> <td>    0.000</td>\n",
       "</tr>\n",
       "<tr>\n",
       "  <th>Debt.To.Income.Ratio</th>            <td>   -0.0011</td> <td>    0.007</td> <td>   -0.154</td> <td> 0.878</td> <td>   -0.014</td> <td>    0.012</td>\n",
       "</tr>\n",
       "<tr>\n",
       "  <th>Employment.Length</th>               <td>    0.0164</td> <td>    0.013</td> <td>    1.307</td> <td> 0.191</td> <td>   -0.008</td> <td>    0.041</td>\n",
       "</tr>\n",
       "<tr>\n",
       "  <th>Inquiries.in.the.Last.6.Months</th>  <td>    0.3377</td> <td>    0.037</td> <td>    9.119</td> <td> 0.000</td> <td>    0.265</td> <td>    0.410</td>\n",
       "</tr>\n",
       "<tr>\n",
       "  <th>Monthly.Income</th>                  <td>-2.605e-05</td> <td> 1.31e-05</td> <td>   -1.991</td> <td> 0.047</td> <td>-5.17e-05</td> <td>-3.87e-07</td>\n",
       "</tr>\n",
       "<tr>\n",
       "  <th>Open.CREDIT.Lines</th>               <td>   -0.0354</td> <td>    0.011</td> <td>   -3.150</td> <td> 0.002</td> <td>   -0.057</td> <td>   -0.013</td>\n",
       "</tr>\n",
       "<tr>\n",
       "  <th>Revolving.CREDIT.Balance</th>        <td>-2.854e-06</td> <td> 2.71e-06</td> <td>   -1.052</td> <td> 0.293</td> <td>-8.17e-06</td> <td> 2.46e-06</td>\n",
       "</tr>\n",
       "<tr>\n",
       "  <th>FICO</th>                            <td>   -0.0865</td> <td>    0.001</td> <td>  -64.342</td> <td> 0.000</td> <td>   -0.089</td> <td>   -0.084</td>\n",
       "</tr>\n",
       "<tr>\n",
       "  <th>Home.Ownership_MORTGAGE</th>         <td>   -0.3884</td> <td>    0.170</td> <td>   -2.279</td> <td> 0.023</td> <td>   -0.723</td> <td>   -0.054</td>\n",
       "</tr>\n",
       "<tr>\n",
       "  <th>Home.Ownership_RENT</th>             <td>   -0.1919</td> <td>    0.169</td> <td>   -1.137</td> <td> 0.255</td> <td>   -0.523</td> <td>    0.139</td>\n",
       "</tr>\n",
       "<tr>\n",
       "  <th>Loan.Length_36 months</th>           <td>   -3.1504</td> <td>    0.120</td> <td>  -26.357</td> <td> 0.000</td> <td>   -3.385</td> <td>   -2.916</td>\n",
       "</tr>\n",
       "<tr>\n",
       "  <th>Loan.Purpose_debt_consolidation</th> <td>   -0.7638</td> <td>    0.290</td> <td>   -2.637</td> <td> 0.008</td> <td>   -1.332</td> <td>   -0.196</td>\n",
       "</tr>\n",
       "<tr>\n",
       "  <th>Loan.Purpose_credit_card</th>        <td>   -0.8644</td> <td>    0.302</td> <td>   -2.860</td> <td> 0.004</td> <td>   -1.457</td> <td>   -0.272</td>\n",
       "</tr>\n",
       "<tr>\n",
       "  <th>Loan.Purpose_other</th>              <td>    0.0679</td> <td>    0.321</td> <td>    0.212</td> <td> 0.832</td> <td>   -0.561</td> <td>    0.696</td>\n",
       "</tr>\n",
       "<tr>\n",
       "  <th>Loan.Purpose_home_improvement</th>   <td>   -0.6894</td> <td>    0.334</td> <td>   -2.064</td> <td> 0.039</td> <td>   -1.344</td> <td>   -0.034</td>\n",
       "</tr>\n",
       "<tr>\n",
       "  <th>Loan.Purpose_major_purchase</th>     <td>   -0.4149</td> <td>    0.358</td> <td>   -1.158</td> <td> 0.247</td> <td>   -1.118</td> <td>    0.288</td>\n",
       "</tr>\n",
       "<tr>\n",
       "  <th>Loan.Purpose_small_business</th>     <td>   -0.2692</td> <td>    0.363</td> <td>   -0.742</td> <td> 0.458</td> <td>   -0.981</td> <td>    0.443</td>\n",
       "</tr>\n",
       "<tr>\n",
       "  <th>Loan.Purpose_car</th>                <td>   -0.5116</td> <td>    0.416</td> <td>   -1.230</td> <td> 0.219</td> <td>   -1.327</td> <td>    0.304</td>\n",
       "</tr>\n",
       "<tr>\n",
       "  <th>Loan.Purpose_wedding</th>            <td>   -0.9937</td> <td>    0.448</td> <td>   -2.219</td> <td> 0.027</td> <td>   -1.872</td> <td>   -0.115</td>\n",
       "</tr>\n",
       "<tr>\n",
       "  <th>Loan.Purpose_medical</th>            <td>   -0.5747</td> <td>    0.492</td> <td>   -1.167</td> <td> 0.243</td> <td>   -1.540</td> <td>    0.391</td>\n",
       "</tr>\n",
       "<tr>\n",
       "  <th>Loan.Purpose_moving</th>             <td>    0.7232</td> <td>    0.498</td> <td>    1.453</td> <td> 0.146</td> <td>   -0.253</td> <td>    1.699</td>\n",
       "</tr>\n",
       "<tr>\n",
       "  <th>State_CA</th>                        <td>   -0.1985</td> <td>    0.197</td> <td>   -1.007</td> <td> 0.314</td> <td>   -0.585</td> <td>    0.188</td>\n",
       "</tr>\n",
       "<tr>\n",
       "  <th>State_NY</th>                        <td>   -0.1906</td> <td>    0.216</td> <td>   -0.884</td> <td> 0.377</td> <td>   -0.614</td> <td>    0.232</td>\n",
       "</tr>\n",
       "<tr>\n",
       "  <th>State_TX</th>                        <td>    0.4319</td> <td>    0.237</td> <td>    1.820</td> <td> 0.069</td> <td>   -0.033</td> <td>    0.897</td>\n",
       "</tr>\n",
       "<tr>\n",
       "  <th>State_FL</th>                        <td>   -0.0745</td> <td>    0.235</td> <td>   -0.317</td> <td> 0.751</td> <td>   -0.536</td> <td>    0.387</td>\n",
       "</tr>\n",
       "<tr>\n",
       "  <th>State_IL</th>                        <td>   -0.5771</td> <td>    0.276</td> <td>   -2.090</td> <td> 0.037</td> <td>   -1.119</td> <td>   -0.036</td>\n",
       "</tr>\n",
       "<tr>\n",
       "  <th>State_GA</th>                        <td>   -0.2366</td> <td>    0.281</td> <td>   -0.842</td> <td> 0.400</td> <td>   -0.787</td> <td>    0.314</td>\n",
       "</tr>\n",
       "<tr>\n",
       "  <th>State_PA</th>                        <td>   -0.5030</td> <td>    0.275</td> <td>   -1.831</td> <td> 0.067</td> <td>   -1.042</td> <td>    0.036</td>\n",
       "</tr>\n",
       "<tr>\n",
       "  <th>State_NJ</th>                        <td>   -0.3992</td> <td>    0.283</td> <td>   -1.411</td> <td> 0.158</td> <td>   -0.954</td> <td>    0.156</td>\n",
       "</tr>\n",
       "<tr>\n",
       "  <th>State_VA</th>                        <td>   -0.1420</td> <td>    0.296</td> <td>   -0.479</td> <td> 0.632</td> <td>   -0.723</td> <td>    0.439</td>\n",
       "</tr>\n",
       "<tr>\n",
       "  <th>State_MA</th>                        <td>   -0.1005</td> <td>    0.306</td> <td>   -0.328</td> <td> 0.743</td> <td>   -0.701</td> <td>    0.500</td>\n",
       "</tr>\n",
       "<tr>\n",
       "  <th>State_OH</th>                        <td>   -0.3166</td> <td>    0.315</td> <td>   -1.005</td> <td> 0.315</td> <td>   -0.935</td> <td>    0.301</td>\n",
       "</tr>\n",
       "<tr>\n",
       "  <th>State_MD</th>                        <td>   -0.1350</td> <td>    0.316</td> <td>   -0.427</td> <td> 0.669</td> <td>   -0.754</td> <td>    0.484</td>\n",
       "</tr>\n",
       "<tr>\n",
       "  <th>State_NC</th>                        <td>   -0.4991</td> <td>    0.315</td> <td>   -1.585</td> <td> 0.113</td> <td>   -1.117</td> <td>    0.119</td>\n",
       "</tr>\n",
       "<tr>\n",
       "  <th>State_CO</th>                        <td>    0.0575</td> <td>    0.325</td> <td>    0.177</td> <td> 0.859</td> <td>   -0.580</td> <td>    0.695</td>\n",
       "</tr>\n",
       "<tr>\n",
       "  <th>State_WA</th>                        <td>   -0.2777</td> <td>    0.329</td> <td>   -0.843</td> <td> 0.399</td> <td>   -0.923</td> <td>    0.368</td>\n",
       "</tr>\n",
       "<tr>\n",
       "  <th>State_CT</th>                        <td>    0.3773</td> <td>    0.351</td> <td>    1.076</td> <td> 0.282</td> <td>   -0.311</td> <td>    1.065</td>\n",
       "</tr>\n",
       "<tr>\n",
       "  <th>State_AZ</th>                        <td>    0.3878</td> <td>    0.351</td> <td>    1.104</td> <td> 0.270</td> <td>   -0.301</td> <td>    1.077</td>\n",
       "</tr>\n",
       "<tr>\n",
       "  <th>State_MI</th>                        <td>   -0.1057</td> <td>    0.372</td> <td>   -0.284</td> <td> 0.777</td> <td>   -0.836</td> <td>    0.624</td>\n",
       "</tr>\n",
       "<tr>\n",
       "  <th>State_AL</th>                        <td>   -0.1026</td> <td>    0.390</td> <td>   -0.263</td> <td> 0.792</td> <td>   -0.867</td> <td>    0.662</td>\n",
       "</tr>\n",
       "<tr>\n",
       "  <th>State_MN</th>                        <td>   -0.2040</td> <td>    0.410</td> <td>   -0.497</td> <td> 0.619</td> <td>   -1.009</td> <td>    0.601</td>\n",
       "</tr>\n",
       "<tr>\n",
       "  <th>State_MO</th>                        <td>   -0.3784</td> <td>    0.416</td> <td>   -0.910</td> <td> 0.363</td> <td>   -1.194</td> <td>    0.437</td>\n",
       "</tr>\n",
       "<tr>\n",
       "  <th>State_NV</th>                        <td>   -0.1838</td> <td>    0.415</td> <td>   -0.443</td> <td> 0.658</td> <td>   -0.998</td> <td>    0.631</td>\n",
       "</tr>\n",
       "<tr>\n",
       "  <th>State_OR</th>                        <td>    0.0245</td> <td>    0.445</td> <td>    0.055</td> <td> 0.956</td> <td>   -0.848</td> <td>    0.897</td>\n",
       "</tr>\n",
       "<tr>\n",
       "  <th>State_SC</th>                        <td>   -0.0647</td> <td>    0.429</td> <td>   -0.151</td> <td> 0.880</td> <td>   -0.906</td> <td>    0.777</td>\n",
       "</tr>\n",
       "<tr>\n",
       "  <th>State_WI</th>                        <td>    0.0221</td> <td>    0.442</td> <td>    0.050</td> <td> 0.960</td> <td>   -0.845</td> <td>    0.890</td>\n",
       "</tr>\n",
       "<tr>\n",
       "  <th>State_KY</th>                        <td>    0.0648</td> <td>    0.490</td> <td>    0.132</td> <td> 0.895</td> <td>   -0.895</td> <td>    1.025</td>\n",
       "</tr>\n",
       "<tr>\n",
       "  <th>State_LA</th>                        <td>    0.2058</td> <td>    0.490</td> <td>    0.420</td> <td> 0.675</td> <td>   -0.756</td> <td>    1.167</td>\n",
       "</tr>\n",
       "<tr>\n",
       "  <th>State_OK</th>                        <td>   -0.3593</td> <td>    0.488</td> <td>   -0.736</td> <td> 0.462</td> <td>   -1.317</td> <td>    0.598</td>\n",
       "</tr>\n",
       "</table>\n",
       "<table class=\"simpletable\">\n",
       "<tr>\n",
       "  <th>Omnibus:</th>       <td>110.890</td> <th>  Durbin-Watson:     </th> <td>   1.951</td>\n",
       "</tr>\n",
       "<tr>\n",
       "  <th>Prob(Omnibus):</th> <td> 0.000</td>  <th>  Jarque-Bera (JB):  </th> <td> 151.576</td>\n",
       "</tr>\n",
       "<tr>\n",
       "  <th>Skew:</th>          <td> 0.471</td>  <th>  Prob(JB):          </th> <td>1.22e-33</td>\n",
       "</tr>\n",
       "<tr>\n",
       "  <th>Kurtosis:</th>      <td> 3.875</td>  <th>  Cond. No.          </th> <td>7.09e+05</td>\n",
       "</tr>\n",
       "</table><br/><br/>Warnings:<br/>[1] Standard Errors assume that the covariance matrix of the errors is correctly specified.<br/>[2] The condition number is large, 7.09e+05. This might indicate that there are<br/>strong multicollinearity or other numerical problems."
      ],
      "text/plain": [
       "<class 'statsmodels.iolib.summary.Summary'>\n",
       "\"\"\"\n",
       "                            OLS Regression Results                            \n",
       "==============================================================================\n",
       "Dep. Variable:          Interest.Rate   R-squared:                       0.764\n",
       "Model:                            OLS   Adj. R-squared:                  0.759\n",
       "Method:                 Least Squares   F-statistic:                     142.1\n",
       "Date:                Fri, 21 Feb 2020   Prob (F-statistic):               0.00\n",
       "Time:                        19:24:12   Log-Likelihood:                -4675.7\n",
       "No. Observations:                2200   AIC:                             9451.\n",
       "Df Residuals:                    2150   BIC:                             9736.\n",
       "Df Model:                          49                                         \n",
       "Covariance Type:            nonrobust                                         \n",
       "===================================================================================================\n",
       "                                      coef    std err          t      P>|t|      [0.025      0.975]\n",
       "---------------------------------------------------------------------------------------------------\n",
       "const                              76.0094      1.056     71.993      0.000      73.939      78.080\n",
       "Amount.Requested                    0.0002   7.19e-06     22.326      0.000       0.000       0.000\n",
       "Debt.To.Income.Ratio               -0.0011      0.007     -0.154      0.878      -0.014       0.012\n",
       "Employment.Length                   0.0164      0.013      1.307      0.191      -0.008       0.041\n",
       "Inquiries.in.the.Last.6.Months      0.3377      0.037      9.119      0.000       0.265       0.410\n",
       "Monthly.Income                  -2.605e-05   1.31e-05     -1.991      0.047   -5.17e-05   -3.87e-07\n",
       "Open.CREDIT.Lines                  -0.0354      0.011     -3.150      0.002      -0.057      -0.013\n",
       "Revolving.CREDIT.Balance        -2.854e-06   2.71e-06     -1.052      0.293   -8.17e-06    2.46e-06\n",
       "FICO                               -0.0865      0.001    -64.342      0.000      -0.089      -0.084\n",
       "Home.Ownership_MORTGAGE            -0.3884      0.170     -2.279      0.023      -0.723      -0.054\n",
       "Home.Ownership_RENT                -0.1919      0.169     -1.137      0.255      -0.523       0.139\n",
       "Loan.Length_36 months              -3.1504      0.120    -26.357      0.000      -3.385      -2.916\n",
       "Loan.Purpose_debt_consolidation    -0.7638      0.290     -2.637      0.008      -1.332      -0.196\n",
       "Loan.Purpose_credit_card           -0.8644      0.302     -2.860      0.004      -1.457      -0.272\n",
       "Loan.Purpose_other                  0.0679      0.321      0.212      0.832      -0.561       0.696\n",
       "Loan.Purpose_home_improvement      -0.6894      0.334     -2.064      0.039      -1.344      -0.034\n",
       "Loan.Purpose_major_purchase        -0.4149      0.358     -1.158      0.247      -1.118       0.288\n",
       "Loan.Purpose_small_business        -0.2692      0.363     -0.742      0.458      -0.981       0.443\n",
       "Loan.Purpose_car                   -0.5116      0.416     -1.230      0.219      -1.327       0.304\n",
       "Loan.Purpose_wedding               -0.9937      0.448     -2.219      0.027      -1.872      -0.115\n",
       "Loan.Purpose_medical               -0.5747      0.492     -1.167      0.243      -1.540       0.391\n",
       "Loan.Purpose_moving                 0.7232      0.498      1.453      0.146      -0.253       1.699\n",
       "State_CA                           -0.1985      0.197     -1.007      0.314      -0.585       0.188\n",
       "State_NY                           -0.1906      0.216     -0.884      0.377      -0.614       0.232\n",
       "State_TX                            0.4319      0.237      1.820      0.069      -0.033       0.897\n",
       "State_FL                           -0.0745      0.235     -0.317      0.751      -0.536       0.387\n",
       "State_IL                           -0.5771      0.276     -2.090      0.037      -1.119      -0.036\n",
       "State_GA                           -0.2366      0.281     -0.842      0.400      -0.787       0.314\n",
       "State_PA                           -0.5030      0.275     -1.831      0.067      -1.042       0.036\n",
       "State_NJ                           -0.3992      0.283     -1.411      0.158      -0.954       0.156\n",
       "State_VA                           -0.1420      0.296     -0.479      0.632      -0.723       0.439\n",
       "State_MA                           -0.1005      0.306     -0.328      0.743      -0.701       0.500\n",
       "State_OH                           -0.3166      0.315     -1.005      0.315      -0.935       0.301\n",
       "State_MD                           -0.1350      0.316     -0.427      0.669      -0.754       0.484\n",
       "State_NC                           -0.4991      0.315     -1.585      0.113      -1.117       0.119\n",
       "State_CO                            0.0575      0.325      0.177      0.859      -0.580       0.695\n",
       "State_WA                           -0.2777      0.329     -0.843      0.399      -0.923       0.368\n",
       "State_CT                            0.3773      0.351      1.076      0.282      -0.311       1.065\n",
       "State_AZ                            0.3878      0.351      1.104      0.270      -0.301       1.077\n",
       "State_MI                           -0.1057      0.372     -0.284      0.777      -0.836       0.624\n",
       "State_AL                           -0.1026      0.390     -0.263      0.792      -0.867       0.662\n",
       "State_MN                           -0.2040      0.410     -0.497      0.619      -1.009       0.601\n",
       "State_MO                           -0.3784      0.416     -0.910      0.363      -1.194       0.437\n",
       "State_NV                           -0.1838      0.415     -0.443      0.658      -0.998       0.631\n",
       "State_OR                            0.0245      0.445      0.055      0.956      -0.848       0.897\n",
       "State_SC                           -0.0647      0.429     -0.151      0.880      -0.906       0.777\n",
       "State_WI                            0.0221      0.442      0.050      0.960      -0.845       0.890\n",
       "State_KY                            0.0648      0.490      0.132      0.895      -0.895       1.025\n",
       "State_LA                            0.2058      0.490      0.420      0.675      -0.756       1.167\n",
       "State_OK                           -0.3593      0.488     -0.736      0.462      -1.317       0.598\n",
       "==============================================================================\n",
       "Omnibus:                      110.890   Durbin-Watson:                   1.951\n",
       "Prob(Omnibus):                  0.000   Jarque-Bera (JB):              151.576\n",
       "Skew:                           0.471   Prob(JB):                     1.22e-33\n",
       "Kurtosis:                       3.875   Cond. No.                     7.09e+05\n",
       "==============================================================================\n",
       "\n",
       "Warnings:\n",
       "[1] Standard Errors assume that the covariance matrix of the errors is correctly specified.\n",
       "[2] The condition number is large, 7.09e+05. This might indicate that there are\n",
       "strong multicollinearity or other numerical problems.\n",
       "\"\"\""
      ]
     },
     "execution_count": 61,
     "metadata": {},
     "output_type": "execute_result"
    }
   ],
   "source": [
    "import statsmodels.api as sm\n",
    "\n",
    "X_constant = sm.add_constant(X)\n",
    "model = sm.OLS(y,X_constant).fit()\n",
    "model.summary()"
   ]
  },
  {
   "cell_type": "markdown",
   "metadata": {},
   "source": [
    "# Assumption test"
   ]
  },
  {
   "cell_type": "code",
   "execution_count": 56,
   "metadata": {},
   "outputs": [
    {
     "data": {
      "text/plain": [
       "<Figure size 72x144 with 0 Axes>"
      ]
     },
     "metadata": {},
     "output_type": "display_data"
    },
    {
     "data": {
      "image/png": "[encoded data removed]",
      "text/plain": [
       "<Figure size 432x288 with 1 Axes>"
      ]
     },
     "metadata": {
      "needs_background": "light"
     },
     "output_type": "display_data"
    }
   ],
   "source": [
    "# autocorrelation test\n",
    "\n",
    "import statsmodels.tsa.api as smt\n",
    "plt.figure(figsize=(1,2))\n",
    "acf = smt.graphics.plot_acf(model.resid, lags=40 , alpha=0.05)\n",
    "acf.show()"
   ]
  },
  {
   "cell_type": "code",
   "execution_count": 57,
   "metadata": {},
   "outputs": [
    {
     "data": {
      "text/plain": [
       "<matplotlib.axes._subplots.AxesSubplot at 0x27bfbcf0088>"
      ]
     },
     "execution_count": 57,
     "metadata": {},
     "output_type": "execute_result"
    },
    {
     "data": {
      "image/png": "[encoded data removed]",
      "text/plain": [
       "<Figure size 576x288 with 1 Axes>"
      ]
     },
     "metadata": {
      "needs_background": "light"
     },
     "output_type": "display_data"
    }
   ],
   "source": [
    "# normality\n",
    "plt.figure(figsize=(8,4))\n",
    "sns.distplot(model.resid)"
   ]
  },
  {
   "cell_type": "code",
   "execution_count": 58,
   "metadata": {},
   "outputs": [
    {
     "data": {
      "image/png": "[encoded data removed]",
      "text/plain": [
       "<Figure size 432x432 with 1 Axes>"
      ]
     },
     "metadata": {
      "needs_background": "light"
     },
     "output_type": "display_data"
    }
   ],
   "source": [
    "#Linearity test\n",
    "\n",
    "fitted_vals = model.predict()\n",
    "resids = model.resid\n",
    "plt.figure(figsize=(6,6))\n",
    "ax=sns.residplot(fitted_vals, resids, lowess = True, color = 'm')\n",
    "ax.set(xlabel = 'Fitted value', ylabel = 'Residuals', title = 'Residual vs Fitted Plot \\n')\n",
    "plt.show()"
   ]
  },
  {
   "cell_type": "code",
   "execution_count": 59,
   "metadata": {},
   "outputs": [
    {
     "data": {
      "text/plain": [
       "3.26077750659434e-12"
      ]
     },
     "execution_count": 59,
     "metadata": {},
     "output_type": "execute_result"
    }
   ],
   "source": [
    "model.resid.mean()"
   ]
  },
  {
   "cell_type": "code",
   "execution_count": null,
   "metadata": {},
   "outputs": [],
   "source": []
  }
 ],
 "metadata": {
  "kernelspec": {
   "display_name": "Python 3",
   "language": "python",
   "name": "python3"
  },
  "language_info": {
   "codemirror_mode": {
    "name": "ipython",
    "version": 3
   },
   "file_extension": ".py",
   "mimetype": "text/x-python",
   "name": "python",
   "nbconvert_exporter": "python",
   "pygments_lexer": "ipython3",
   "version": "3.7.4"
  }
 },
 "nbformat": 4,
 "nbformat_minor": 2
}
